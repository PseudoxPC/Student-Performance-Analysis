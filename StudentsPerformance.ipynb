{
 "cells": [
  {
   "cell_type": "code",
   "execution_count": 1,
   "id": "0f515edf",
   "metadata": {},
   "outputs": [
    {
     "name": "stdout",
     "output_type": "stream",
     "text": [
      "Requirement already satisfied: pandas in c:\\users\\pc726\\appdata\\local\\packages\\pythonsoftwarefoundation.python.3.11_qbz5n2kfra8p0\\localcache\\local-packages\\python311\\site-packages (2.2.3)\n",
      "Requirement already satisfied: openpyxl in c:\\users\\pc726\\appdata\\local\\packages\\pythonsoftwarefoundation.python.3.11_qbz5n2kfra8p0\\localcache\\local-packages\\python311\\site-packages (3.1.5)\n",
      "Requirement already satisfied: numpy>=1.23.2 in c:\\users\\pc726\\appdata\\local\\packages\\pythonsoftwarefoundation.python.3.11_qbz5n2kfra8p0\\localcache\\local-packages\\python311\\site-packages (from pandas) (2.1.3)\n",
      "Requirement already satisfied: python-dateutil>=2.8.2 in c:\\users\\pc726\\appdata\\local\\packages\\pythonsoftwarefoundation.python.3.11_qbz5n2kfra8p0\\localcache\\local-packages\\python311\\site-packages (from pandas) (2.9.0.post0)\n",
      "Requirement already satisfied: pytz>=2020.1 in c:\\users\\pc726\\appdata\\local\\packages\\pythonsoftwarefoundation.python.3.11_qbz5n2kfra8p0\\localcache\\local-packages\\python311\\site-packages (from pandas) (2025.1)\n",
      "Requirement already satisfied: tzdata>=2022.7 in c:\\users\\pc726\\appdata\\local\\packages\\pythonsoftwarefoundation.python.3.11_qbz5n2kfra8p0\\localcache\\local-packages\\python311\\site-packages (from pandas) (2025.1)\n",
      "Requirement already satisfied: et-xmlfile in c:\\users\\pc726\\appdata\\local\\packages\\pythonsoftwarefoundation.python.3.11_qbz5n2kfra8p0\\localcache\\local-packages\\python311\\site-packages (from openpyxl) (2.0.0)\n",
      "Requirement already satisfied: six>=1.5 in c:\\users\\pc726\\appdata\\local\\packages\\pythonsoftwarefoundation.python.3.11_qbz5n2kfra8p0\\localcache\\local-packages\\python311\\site-packages (from python-dateutil>=2.8.2->pandas) (1.17.0)\n",
      "Note: you may need to restart the kernel to use updated packages.\n"
     ]
    }
   ],
   "source": [
    "pip install pandas openpyxl"
   ]
  },
  {
   "cell_type": "code",
   "execution_count": 2,
   "id": "e6285cfd",
   "metadata": {},
   "outputs": [],
   "source": [
    "import pandas as pd"
   ]
  },
  {
   "cell_type": "markdown",
   "id": "fae23049",
   "metadata": {},
   "source": [
    "# Step 1: Load the dataset "
   ]
  },
  {
   "cell_type": "code",
   "execution_count": null,
   "id": "7f152175",
   "metadata": {},
   "outputs": [],
   "source": [
    "df = pd.read_csv('StudentsPerformance.csv')"
   ]
  },
  {
   "cell_type": "markdown",
   "id": "11f0bbd7",
   "metadata": {},
   "source": [
    "# Step 2: Data Cleaning"
   ]
  },
  {
   "cell_type": "code",
   "execution_count": 4,
   "id": "62e18929",
   "metadata": {},
   "outputs": [],
   "source": [
    "# Remove duplicate rows\n",
    "df = df.drop_duplicates()"
   ]
  },
  {
   "cell_type": "code",
   "execution_count": 5,
   "id": "3e7af49d",
   "metadata": {},
   "outputs": [],
   "source": [
    "# Remove duplicate rows\n",
    "df = df.drop_duplicates()"
   ]
  },
  {
   "cell_type": "code",
   "execution_count": 6,
   "id": "eb6a36b3",
   "metadata": {},
   "outputs": [],
   "source": [
    "# Check for missing values and drop rows with any missing data\n",
    "df = df.dropna()"
   ]
  },
  {
   "cell_type": "code",
   "execution_count": 7,
   "id": "4691261c",
   "metadata": {},
   "outputs": [],
   "source": [
    "# Standardize gender column - capitalize first letters\n",
    "df['gender'] = df['gender'].str.capitalize()"
   ]
  },
  {
   "cell_type": "code",
   "execution_count": 8,
   "id": "2a5f2fd4",
   "metadata": {},
   "outputs": [],
   "source": [
    "# Similarly, if needed, standardize other categorical columns\n",
    "categorical_cols = ['race/ethnicity', 'parental level of education', 'lunch', 'test preparation course']\n",
    "for col in categorical_cols:\n",
    "    df[col] = df[col].str.title()\n"
   ]
  },
  {
   "cell_type": "code",
   "execution_count": 9,
   "id": "6ed8f40f",
   "metadata": {},
   "outputs": [],
   "source": [
    "# Ensure score columns are numeric\n",
    "score_cols = ['math score', 'reading score', 'writing score']\n",
    "for col in score_cols:\n",
    "    df[col] = pd.to_numeric(df[col], errors='coerce')"
   ]
  },
  {
   "cell_type": "code",
   "execution_count": 10,
   "id": "26d569b7",
   "metadata": {},
   "outputs": [],
   "source": [
    "# Drop any rows where scores could not be converted to numbers (if any)\n",
    "df = df.dropna(subset=score_cols)"
   ]
  },
  {
   "cell_type": "markdown",
   "id": "88fe64f6",
   "metadata": {},
   "source": [
    "# Step 3: Calculate Key Metrics"
   ]
  },
  {
   "cell_type": "code",
   "execution_count": 11,
   "id": "1f808140",
   "metadata": {},
   "outputs": [],
   "source": [
    "# Calculate overall average, max, min for each subject\n",
    "summary_stats = pd.DataFrame({\n",
    "    'Metric': ['Average', 'Highest', 'Lowest'],\n",
    "})\n",
    "\n",
    "for col in score_cols:\n",
    "    averages = [\n",
    "        df[col].mean(),\n",
    "        df[col].max(),\n",
    "        df[col].min()\n",
    "    ]\n",
    "    summary_stats[col] = averages"
   ]
  },
  {
   "cell_type": "markdown",
   "id": "4ddb1a8e",
   "metadata": {},
   "source": [
    "# Optional: "
   ]
  },
  {
   "cell_type": "code",
   "execution_count": 12,
   "id": "bb7957c5",
   "metadata": {},
   "outputs": [],
   "source": [
    "# Calculate gender-wise averages\n",
    "gender_avg = df.groupby('gender')[score_cols].mean().reset_index()"
   ]
  },
  {
   "cell_type": "markdown",
   "id": "65dfd34b",
   "metadata": {},
   "source": [
    "# Step 4: Write cleaned data and summary to Excel in different sheets"
   ]
  },
  {
   "cell_type": "code",
   "execution_count": 13,
   "id": "aaf71077",
   "metadata": {},
   "outputs": [
    {
     "name": "stdout",
     "output_type": "stream",
     "text": [
      "Cleaned data and summary saved in 'student_performance_cleaned.xlsx'\n"
     ]
    }
   ],
   "source": [
    "with pd.ExcelWriter('student_performance_cleaned.xlsx', engine='openpyxl') as writer:\n",
    "    df.to_excel(writer, sheet_name='Cleaned Data', index=False)\n",
    "    summary_stats.to_excel(writer, sheet_name='Summary Stats', index=False)\n",
    "    gender_avg.to_excel(writer, sheet_name='Gender Averages', index=False)\n",
    "\n",
    "print(\"Cleaned data and summary saved in 'student_performance_cleaned.xlsx'\")\n"
   ]
  },
  {
   "cell_type": "code",
   "execution_count": 15,
   "id": "f201cc49",
   "metadata": {},
   "outputs": [
    {
     "name": "stdout",
     "output_type": "stream",
     "text": [
      "<class 'pandas.core.frame.DataFrame'>\n",
      "RangeIndex: 1000 entries, 0 to 999\n",
      "Data columns (total 8 columns):\n",
      " #   Column                       Non-Null Count  Dtype \n",
      "---  ------                       --------------  ----- \n",
      " 0   gender                       1000 non-null   object\n",
      " 1   race/ethnicity               1000 non-null   object\n",
      " 2   parental level of education  1000 non-null   object\n",
      " 3   lunch                        1000 non-null   object\n",
      " 4   test preparation course      1000 non-null   object\n",
      " 5   math score                   1000 non-null   int64 \n",
      " 6   reading score                1000 non-null   int64 \n",
      " 7   writing score                1000 non-null   int64 \n",
      "dtypes: int64(3), object(5)\n",
      "memory usage: 62.6+ KB\n",
      "None\n"
     ]
    }
   ],
   "source": [
    "# Show info\n",
    "print(df.info())"
   ]
  },
  {
   "cell_type": "code",
   "execution_count": 16,
   "id": "001b0d90",
   "metadata": {},
   "outputs": [
    {
     "name": "stdout",
     "output_type": "stream",
     "text": [
      "   gender race/ethnicity parental level of education         lunch  \\\n",
      "0  Female        Group B           Bachelor'S Degree      Standard   \n",
      "1  Female        Group C                Some College      Standard   \n",
      "2  Female        Group B             Master'S Degree      Standard   \n",
      "3    Male        Group A          Associate'S Degree  Free/Reduced   \n",
      "4    Male        Group C                Some College      Standard   \n",
      "\n",
      "  test preparation course  math score  reading score  writing score  \n",
      "0                    None          72             72             74  \n",
      "1               Completed          69             90             88  \n",
      "2                    None          90             95             93  \n",
      "3                    None          47             57             44  \n",
      "4                    None          76             78             75  \n"
     ]
    }
   ],
   "source": [
    "print(df.head())"
   ]
  },
  {
   "cell_type": "code",
   "execution_count": 17,
   "id": "59eb10f6",
   "metadata": {},
   "outputs": [
    {
     "name": "stdout",
     "output_type": "stream",
     "text": [
      "\n",
      "Subject-wise averages:\n",
      "math score       66.089\n",
      "reading score    69.169\n",
      "writing score    68.054\n",
      "dtype: float64\n"
     ]
    }
   ],
   "source": [
    "# Subject-wise averages\n",
    "subject_avg = df[['math score', 'reading score', 'writing score']].mean()\n",
    "print(\"\\nSubject-wise averages:\")\n",
    "print(subject_avg)"
   ]
  },
  {
   "cell_type": "code",
   "execution_count": 18,
   "id": "66bff869",
   "metadata": {},
   "outputs": [
    {
     "name": "stdout",
     "output_type": "stream",
     "text": [
      "\n",
      "Gender-wise averages:\n",
      "        math score  reading score  writing score\n",
      "gender                                          \n",
      "Female   63.633205      72.608108      72.467181\n",
      "Male     68.728216      65.473029      63.311203\n"
     ]
    }
   ],
   "source": [
    "# Gender-wise averages\n",
    "gender_avg = df.groupby('gender')[['math score', 'reading score', 'writing score']].mean()\n",
    "print(\"\\nGender-wise averages:\")\n",
    "print(gender_avg)"
   ]
  },
  {
   "cell_type": "markdown",
   "id": "70c31f6e",
   "metadata": {},
   "source": [
    "# Visualize Subject-wise and Gender-wise Performance"
   ]
  },
  {
   "cell_type": "code",
   "execution_count": 19,
   "id": "fda608f0",
   "metadata": {},
   "outputs": [],
   "source": [
    "import matplotlib.pyplot as plt\n",
    "import seaborn as sns\n"
   ]
  },
  {
   "cell_type": "code",
   "execution_count": 20,
   "id": "e91e6f95",
   "metadata": {},
   "outputs": [
    {
     "name": "stderr",
     "output_type": "stream",
     "text": [
      "C:\\Users\\pc726\\AppData\\Local\\Temp\\ipykernel_3008\\3614157530.py:3: FutureWarning: \n",
      "\n",
      "Passing `palette` without assigning `hue` is deprecated and will be removed in v0.14.0. Assign the `x` variable to `hue` and set `legend=False` for the same effect.\n",
      "\n",
      "  sns.barplot(x=subject_avg.index, y=subject_avg.values, palette='viridis')\n"
     ]
    },
    {
     "data": {
      "image/png": "[encoded data removed]",
      "text/plain": [
       "<Figure size 800x400 with 1 Axes>"
      ]
     },
     "metadata": {},
     "output_type": "display_data"
    }
   ],
   "source": [
    "# Subject-wise averages bar chart\n",
    "plt.figure(figsize=(8,4))\n",
    "sns.barplot(x=subject_avg.index, y=subject_avg.values, palette='viridis')\n",
    "plt.title('Subject-wise Average Scores')\n",
    "plt.ylabel('Average Score')\n",
    "plt.xlabel('Subject')\n",
    "plt.ylim(0, 100)\n",
    "plt.show()\n",
    "\n"
   ]
  },
  {
   "cell_type": "code",
   "execution_count": 21,
   "id": "7b37ef66",
   "metadata": {},
   "outputs": [
    {
     "data": {
      "image/png": "[encoded data removed]",
      "text/plain": [
       "<Figure size 1000x500 with 1 Axes>"
      ]
     },
     "metadata": {},
     "output_type": "display_data"
    }
   ],
   "source": [
    "# Gender-wise (clustered) bar chart\n",
    "gender_avg_plot = gender_avg.reset_index().melt(id_vars='gender', var_name='Subject', value_name='Average Score')\n",
    "\n",
    "plt.figure(figsize=(10,5))\n",
    "sns.barplot(x='Subject', y='Average Score', hue='gender', data=gender_avg_plot, palette='Set2')\n",
    "plt.title('Gender-wise Average Scores by Subject')\n",
    "plt.ylim(0, 100)\n",
    "plt.show()"
   ]
  },
  {
   "cell_type": "markdown",
   "id": "759dccaa",
   "metadata": {},
   "source": [
    "# Save cleaned data to Excel"
   ]
  },
  {
   "cell_type": "code",
   "execution_count": 23,
   "id": "c13c20fa",
   "metadata": {},
   "outputs": [
    {
     "name": "stdout",
     "output_type": "stream",
     "text": [
      "Cleaned data saved as student_performance_cleaned.xlsx\n"
     ]
    }
   ],
   "source": [
    "df_cleaned = pd.DataFrame(df)\n",
    "output_file = 'student_performance_cleaned.xlsx'\n",
    "df_cleaned.to_excel(output_file, index=False)\n",
    "\n",
    "print(f\"Cleaned data saved as {output_file}\")"
   ]
  },
  {
   "cell_type": "code",
   "execution_count": null,
   "id": "3563d671",
   "metadata": {},
   "outputs": [],
   "source": []
  }
 ],
 "metadata": {
  "kernelspec": {
   "display_name": "Python 3",
   "language": "python",
   "name": "python3"
  },
  "language_info": {
   "codemirror_mode": {
    "name": "ipython",
    "version": 3
   },
   "file_extension": ".py",
   "mimetype": "text/x-python",
   "name": "python",
   "nbconvert_exporter": "python",
   "pygments_lexer": "ipython3",
   "version": "3.11.9"
  }
 },
 "nbformat": 4,
 "nbformat_minor": 5
}
